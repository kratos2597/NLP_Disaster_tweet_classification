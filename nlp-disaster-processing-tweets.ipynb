{
 "cells": [
  {
   "cell_type": "code",
   "execution_count": 1,
   "id": "afd3fb9b",
   "metadata": {
    "_cell_guid": "b1076dfc-b9ad-4769-8c92-a6c4dae69d19",
    "_uuid": "8f2839f25d086af736a60e9eeb907d3b93b6e0e5",
    "execution": {
     "iopub.execute_input": "2021-12-31T11:43:32.351603Z",
     "iopub.status.busy": "2021-12-31T11:43:32.349753Z",
     "iopub.status.idle": "2021-12-31T11:43:32.362549Z",
     "shell.execute_reply": "2021-12-31T11:43:32.363106Z",
     "shell.execute_reply.started": "2021-12-31T11:10:40.547475Z"
    },
    "papermill": {
     "duration": 0.055947,
     "end_time": "2021-12-31T11:43:32.363422",
     "exception": false,
     "start_time": "2021-12-31T11:43:32.307475",
     "status": "completed"
    },
    "tags": []
   },
   "outputs": [],
   "source": [
    "import pandas as pd\n",
    "import numpy as np\n",
    "import os\n",
    "import matplotlib.pyplot as plt\n",
    "import time\n",
    "%matplotlib inline"
   ]
  },
  {
   "cell_type": "markdown",
   "id": "2c98c02b",
   "metadata": {
    "papermill": {
     "duration": 0.035538,
     "end_time": "2021-12-31T11:43:32.437510",
     "exception": false,
     "start_time": "2021-12-31T11:43:32.401972",
     "status": "completed"
    },
    "tags": []
   },
   "source": [
    "### Reading the Data"
   ]
  },
  {
   "cell_type": "code",
   "execution_count": 2,
   "id": "2b0cd819",
   "metadata": {
    "execution": {
     "iopub.execute_input": "2021-12-31T11:43:32.514477Z",
     "iopub.status.busy": "2021-12-31T11:43:32.513760Z",
     "iopub.status.idle": "2021-12-31T11:43:32.609495Z",
     "shell.execute_reply": "2021-12-31T11:43:32.610058Z",
     "shell.execute_reply.started": "2021-12-31T11:10:40.580005Z"
    },
    "papermill": {
     "duration": 0.136894,
     "end_time": "2021-12-31T11:43:32.610280",
     "exception": false,
     "start_time": "2021-12-31T11:43:32.473386",
     "status": "completed"
    },
    "tags": []
   },
   "outputs": [],
   "source": [
    "train = pd.read_csv(\"../input/nlp-getting-started/train.csv\")\n",
    "train = train[['text','target']]\n",
    "train.drop_duplicates(inplace=True)\n",
    "test = pd.read_csv(\"../input/nlp-getting-started/test.csv\")\n",
    "test = test[['id','text']]"
   ]
  },
  {
   "cell_type": "markdown",
   "id": "ad08a3eb",
   "metadata": {
    "papermill": {
     "duration": 0.035526,
     "end_time": "2021-12-31T11:43:32.685598",
     "exception": false,
     "start_time": "2021-12-31T11:43:32.650072",
     "status": "completed"
    },
    "tags": []
   },
   "source": [
    "### Cleaning the tweets"
   ]
  },
  {
   "cell_type": "code",
   "execution_count": 3,
   "id": "7c3aeddb",
   "metadata": {
    "execution": {
     "iopub.execute_input": "2021-12-31T11:43:32.766316Z",
     "iopub.status.busy": "2021-12-31T11:43:32.765587Z",
     "iopub.status.idle": "2021-12-31T11:43:34.370682Z",
     "shell.execute_reply": "2021-12-31T11:43:34.370007Z",
     "shell.execute_reply.started": "2021-12-31T11:10:40.684116Z"
    },
    "papermill": {
     "duration": 1.64951,
     "end_time": "2021-12-31T11:43:34.370833",
     "exception": false,
     "start_time": "2021-12-31T11:43:32.721323",
     "status": "completed"
    },
    "tags": []
   },
   "outputs": [],
   "source": [
    "import string\n",
    "import re\n",
    "from nltk.stem import WordNetLemmatizer\n",
    "lemmatizer = WordNetLemmatizer()\n",
    "def clean(text):\n",
    "    # only aplhabest\n",
    "    text =  re.sub(r'[^A-Za-z ]+', '', text) \n",
    "    # converting all the teweets to lower case\n",
    "    text = text.lower()\n",
    "    # remove urls and html tags\n",
    "    url = re.compile(r\"https?://\\s+|www\\.\\S+\")\n",
    "    text = url.sub(r\"\", text)\n",
    "    html = re.compile(r\"<.*?>\")\n",
    "    text = html.sub(r\"\",text)\n",
    "    # removing emojis\n",
    "    emoji = re.compile(pattern = \"[\"\n",
    "        u\"\\U0001F600-\\U0001F64F\"  # emoticons\n",
    "        u\"\\U0001F300-\\U0001F5FF\"  # symbols & pictographs\n",
    "        u\"\\U0001F680-\\U0001F6FF\"  # transport & map symbols\n",
    "        u\"\\U0001F1E0-\\U0001F1FF\"  # flags (iOS)\n",
    "                           \"]+\", flags = re.UNICODE)\n",
    "    text = emoji.sub(r'',text)\n",
    "    #removing punctutions\n",
    "    punctuations = str.maketrans(\"\",\"\", string.punctuation)\n",
    "    text = text.translate(punctuations)\n",
    "    #lemmatization\n",
    "    text = text.split(' ')\n",
    "    text = [lemmatizer.lemmatize(i) for i in text]\n",
    "    text = ' '.join(text) \n",
    "    return text"
   ]
  },
  {
   "cell_type": "code",
   "execution_count": 4,
   "id": "6558098d",
   "metadata": {
    "execution": {
     "iopub.execute_input": "2021-12-31T11:43:34.449021Z",
     "iopub.status.busy": "2021-12-31T11:43:34.448360Z",
     "iopub.status.idle": "2021-12-31T11:43:37.362399Z",
     "shell.execute_reply": "2021-12-31T11:43:37.361777Z",
     "shell.execute_reply.started": "2021-12-31T11:10:42.491847Z"
    },
    "papermill": {
     "duration": 2.954543,
     "end_time": "2021-12-31T11:43:37.362548",
     "exception": false,
     "start_time": "2021-12-31T11:43:34.408005",
     "status": "completed"
    },
    "tags": []
   },
   "outputs": [],
   "source": [
    "train['text'] = train.text.apply(lambda x: clean(x))"
   ]
  },
  {
   "cell_type": "code",
   "execution_count": 5,
   "id": "9c8e27f7",
   "metadata": {
    "execution": {
     "iopub.execute_input": "2021-12-31T11:43:37.439880Z",
     "iopub.status.busy": "2021-12-31T11:43:37.438539Z",
     "iopub.status.idle": "2021-12-31T11:43:37.490605Z",
     "shell.execute_reply": "2021-12-31T11:43:37.491133Z",
     "shell.execute_reply.started": "2021-12-31T11:40:32.436228Z"
    },
    "papermill": {
     "duration": 0.093154,
     "end_time": "2021-12-31T11:43:37.491328",
     "exception": false,
     "start_time": "2021-12-31T11:43:37.398174",
     "status": "completed"
    },
    "tags": []
   },
   "outputs": [],
   "source": [
    "def tweet_cleaner(tweet):\n",
    "    # Acronyms and miswritten words\n",
    "    tweet = re.sub(r\"Typhoon-Devastated\", \"typhoon devastated\", tweet)\n",
    "    tweet = re.sub(r\"TyphoonDevastated\", \"typhoon devastated\", tweet)\n",
    "    tweet = re.sub(r\"typhoondevastated\", \"typhoon devastated\", tweet)\n",
    "    tweet = re.sub(r\"MH370\", \"Malaysia Airlines Flight\", tweet)\n",
    "    tweet = re.sub(r\"MH\", \"Malaysia Airlines Flight\", tweet)\n",
    "    tweet = re.sub(r\"mh370\", \"Malaysia Airlines Flight\", tweet)\n",
    "    tweet = re.sub(r\"year-old\", \"years old\", tweet)\n",
    "    tweet = re.sub(r\"yearold\", \"years old\", tweet)\n",
    "    tweet = re.sub(r\"yr old\", \"years old\", tweet)\n",
    "    tweet = re.sub(r\"PKK\", \"Kurdistan Workers Party\", tweet)\n",
    "    tweet = re.sub(r\"MP\", \"madhya pradesh\", tweet)\n",
    "    tweet = re.sub(r\"rly\", \"railway\", tweet)\n",
    "    tweet = re.sub(r\"CDT\", \"Central Daylight Time\", tweet)\n",
    "    tweet = re.sub(r\"sensorsenso\", \"sensor senso\", tweet)\n",
    "    tweet = re.sub(r\"pm\", \"\", tweet)\n",
    "    tweet = re.sub(r\"PM\", \"\", tweet)\n",
    "    tweet = re.sub(r\"nan\", \" \", tweet)\n",
    "    tweet = re.sub(r\"terrorismturn\", \"terrorism turn\", tweet)\n",
    "    tweet = re.sub(r\"epicente\", \"epicenter\", tweet)\n",
    "    tweet = re.sub(r\"epicenterr\", \"epicenter\", tweet)\n",
    "    tweet = re.sub(r\"WAwildfire\", \"Washington Wildfire\", tweet)\n",
    "    tweet = re.sub(r\"prebreak\", \"pre break\", tweet)\n",
    "    tweet = re.sub(r\"nowplaying\", \"now playing\", tweet)\n",
    "    tweet = re.sub(r\"RT\", \"retweet\", tweet)\n",
    "    tweet = re.sub(r\"EbolaOutbreak\", \"Ebola Outbreak\", tweet)\n",
    "    tweet = re.sub(r\"LondonFire\", \"London Fire\", tweet)\n",
    "    tweet = re.sub(r\"IDFire\", \"Idaho Fire\", tweet)\n",
    "    tweet = re.sub(r\"withBioterrorism&use\", \"with Bioterrorism & use\", tweet)\n",
    "    tweet = re.sub(r\"NASAHurricane\", \"NASA Hurricane\", tweet)\n",
    "    tweet = re.sub(r\"withweapons\", \"with weapons\", tweet)\n",
    "    tweet = re.sub(r\"NuclearPower\", \"Nuclear Power\", tweet)\n",
    "    tweet = re.sub(r\"WhiteTerrorism\", \"White Terrorism\", tweet)\n",
    "    tweet = re.sub(r\"MyanmarFlood\", \"Myanmar Flood\", tweet)\n",
    "    tweet = re.sub(r\"ExtremeWeather\", \"Extreme Weather\", tweet)\n",
    "\n",
    "    # Special characters\n",
    "    tweet = re.sub(r\"%20\", \" \", tweet)\n",
    "    tweet = re.sub(r\"%\", \" \", tweet)\n",
    "    tweet = re.sub(r\"@\", \" \", tweet)\n",
    "    tweet = re.sub(r\"#\", \" \", tweet)\n",
    "    tweet = re.sub(r\"'\", \" \", tweet)\n",
    "    tweet = re.sub(r\"\\x89û_\", \" \", tweet)\n",
    "    tweet = re.sub(r\"\\x89ûò\", \" \", tweet)\n",
    "    tweet = re.sub(r\"16yr\", \"16 year\", tweet)\n",
    "    tweet = re.sub(r\"re\\x89û_\", \" \", tweet)\n",
    "    tweet = re.sub(r\"\\x89û\", \" \", tweet)\n",
    "    tweet = re.sub(r\"\\x89Û\", \" \", tweet)\n",
    "    tweet = re.sub(r\"re\\x89Û\", \"re \", tweet)\n",
    "    tweet = re.sub(r\"re\\x89û\", \"re \", tweet)\n",
    "    tweet = re.sub(r\"\\x89ûª\", \"'\", tweet)\n",
    "    tweet = re.sub(r\"\\x89û\", \" \", tweet)\n",
    "    tweet = re.sub(r\"\\x89ûò\", \" \", tweet)\n",
    "    tweet = re.sub(r\"\\x89Û_\", \"\", tweet)\n",
    "    tweet = re.sub(r\"\\x89ÛÒ\", \"\", tweet)\n",
    "    tweet = re.sub(r\"\\x89ÛÓ\", \"\", tweet)\n",
    "    tweet = re.sub(r\"\\x89ÛÏWhen\", \"When\", tweet)\n",
    "    tweet = re.sub(r\"\\x89ÛÏ\", \"\", tweet)\n",
    "    tweet = re.sub(r\"China\\x89Ûªs\", \"China's\", tweet)\n",
    "    tweet = re.sub(r\"let\\x89Ûªs\", \"let's\", tweet)\n",
    "    tweet = re.sub(r\"\\x89Û÷\", \"\", tweet)\n",
    "    tweet = re.sub(r\"\\x89Ûª\", \"\", tweet)\n",
    "    tweet = re.sub(r\"\\x89Û\\x9d\", \"\", tweet)\n",
    "    tweet = re.sub(r\"å_\", \"\", tweet)\n",
    "    tweet = re.sub(r\"\\x89Û¢\", \"\", tweet)\n",
    "    tweet = re.sub(r\"\\x89Û¢åÊ\", \"\", tweet)\n",
    "    tweet = re.sub(r\"fromåÊwounds\", \"from wounds\", tweet)\n",
    "    tweet = re.sub(r\"åÊ\", \"\", tweet)\n",
    "    tweet = re.sub(r\"åÈ\", \"\", tweet)\n",
    "    tweet = re.sub(r\"JapÌ_n\", \"Japan\", tweet)    \n",
    "    tweet = re.sub(r\"Ì©\", \"e\", tweet)\n",
    "    tweet = re.sub(r\"å¨\", \"\", tweet)\n",
    "    tweet = re.sub(r\"SuruÌ¤\", \"Suruc\", tweet)\n",
    "    tweet = re.sub(r\"åÇ\", \"\", tweet)\n",
    "    tweet = re.sub(r\"å£3million\", \"3 million\", tweet)\n",
    "    tweet = re.sub(r\"åÀ\", \"\", tweet)\n",
    "\n",
    "    # Contractions\n",
    "    tweet = re.sub(r\"he's\", \"he is\", tweet)\n",
    "    tweet = re.sub(r\"there's\", \"there is\", tweet)\n",
    "    tweet = re.sub(r\"We're\", \"We are\", tweet)\n",
    "    tweet = re.sub(r\"That's\", \"That is\", tweet)\n",
    "    tweet = re.sub(r\"won't\", \"will not\", tweet)\n",
    "    tweet = re.sub(r\"they're\", \"they are\", tweet)\n",
    "    tweet = re.sub(r\"Can't\", \"Cannot\", tweet)\n",
    "    tweet = re.sub(r\"wasn't\", \"was not\", tweet)\n",
    "    tweet = re.sub(r\"don\\x89Ûªt\", \"do not\", tweet)\n",
    "    tweet = re.sub(r\"aren't\", \"are not\", tweet)\n",
    "    tweet = re.sub(r\"isn't\", \"is not\", tweet)\n",
    "    tweet = re.sub(r\"What's\", \"What is\", tweet)\n",
    "    tweet = re.sub(r\"haven't\", \"have not\", tweet)\n",
    "    tweet = re.sub(r\"hasn't\", \"has not\", tweet)\n",
    "    tweet = re.sub(r\"There's\", \"There is\", tweet)\n",
    "    tweet = re.sub(r\"He's\", \"He is\", tweet)\n",
    "    tweet = re.sub(r\"It's\", \"It is\", tweet)\n",
    "    tweet = re.sub(r\"You're\", \"You are\", tweet)\n",
    "    tweet = re.sub(r\"I'M\", \"I am\", tweet)\n",
    "    tweet = re.sub(r\"Im\", \"I am\", tweet)\n",
    "    tweet = re.sub(r\"shouldn't\", \"should not\", tweet)\n",
    "    tweet = re.sub(r\"wouldn't\", \"would not\", tweet)\n",
    "    tweet = re.sub(r\"i'm\", \"I am\", tweet)\n",
    "    tweet = re.sub(r\"I\\x89Ûªm\", \"I am\", tweet)\n",
    "    tweet = re.sub(r\"I'm\", \"I am\", tweet)\n",
    "    tweet = re.sub(r\"Isn't\", \"is not\", tweet)\n",
    "    tweet = re.sub(r\"Here's\", \"Here is\", tweet)\n",
    "    tweet = re.sub(r\"you've\", \"you have\", tweet)\n",
    "    tweet = re.sub(r\"you\\x89Ûªve\", \"you have\", tweet)\n",
    "    tweet = re.sub(r\"we're\", \"we are\", tweet)\n",
    "    tweet = re.sub(r\"what's\", \"what is\", tweet)\n",
    "    tweet = re.sub(r\"couldn't\", \"could not\", tweet)\n",
    "    tweet = re.sub(r\"we've\", \"we have\", tweet)\n",
    "    tweet = re.sub(r\"it\\x89Ûªs\", \"it is\", tweet)\n",
    "    tweet = re.sub(r\"doesn\\x89Ûªt\", \"does not\", tweet)\n",
    "    tweet = re.sub(r\"It\\x89Ûªs\", \"It is\", tweet)\n",
    "    tweet = re.sub(r\"Here\\x89Ûªs\", \"Here is\", tweet)\n",
    "    tweet = re.sub(r\"who's\", \"who is\", tweet)\n",
    "    tweet = re.sub(r\"I\\x89Ûªve\", \"I have\", tweet)\n",
    "    tweet = re.sub(r\"y'all\", \"you all\", tweet)\n",
    "    tweet = re.sub(r\"can\\x89Ûªt\", \"cannot\", tweet)\n",
    "    tweet = re.sub(r\"would've\", \"would have\", tweet)\n",
    "    tweet = re.sub(r\"it'll\", \"it will\", tweet)\n",
    "    tweet = re.sub(r\"we'll\", \"we will\", tweet)\n",
    "    tweet = re.sub(r\"wouldn\\x89Ûªt\", \"would not\", tweet)\n",
    "    tweet = re.sub(r\"We've\", \"We have\", tweet)\n",
    "    tweet = re.sub(r\"he'll\", \"he will\", tweet)\n",
    "    tweet = re.sub(r\"Y'all\", \"You all\", tweet)\n",
    "    tweet = re.sub(r\"Weren't\", \"Were not\", tweet)\n",
    "    tweet = re.sub(r\"Didn't\", \"Did not\", tweet)\n",
    "    tweet = re.sub(r\"they'll\", \"they will\", tweet)\n",
    "    tweet = re.sub(r\"they'd\", \"they would\", tweet)\n",
    "    tweet = re.sub(r\"DON'T\", \"DO NOT\", tweet)\n",
    "    tweet = re.sub(r\"That\\x89Ûªs\", \"That is\", tweet)\n",
    "    tweet = re.sub(r\"they've\", \"they have\", tweet)\n",
    "    tweet = re.sub(r\"i'd\", \"I would\", tweet)\n",
    "    tweet = re.sub(r\"should've\", \"should have\", tweet)\n",
    "    tweet = re.sub(r\"You\\x89Ûªre\", \"You are\", tweet)\n",
    "    tweet = re.sub(r\"where's\", \"where is\", tweet)\n",
    "    tweet = re.sub(r\"Don\\x89Ûªt\", \"Do not\", tweet)\n",
    "    tweet = re.sub(r\"we'd\", \"we would\", tweet)\n",
    "    tweet = re.sub(r\"i'll\", \"I will\", tweet)\n",
    "    tweet = re.sub(r\"weren't\", \"were not\", tweet)\n",
    "    tweet = re.sub(r\"They're\", \"They are\", tweet)\n",
    "    tweet = re.sub(r\"Can\\x89Ûªt\", \"Cannot\", tweet)\n",
    "    tweet = re.sub(r\"you\\x89Ûªll\", \"you will\", tweet)\n",
    "    tweet = re.sub(r\"I\\x89Ûªd\", \"I would\", tweet)\n",
    "    tweet = re.sub(r\"let's\", \"let us\", tweet)\n",
    "    tweet = re.sub(r\"it's\", \"it is\", tweet)\n",
    "    tweet = re.sub(r\"can't\", \"can not\", tweet)\n",
    "    tweet = re.sub(r\"cant\", \"can not\", tweet)\n",
    "    tweet = re.sub(r\"don't\", \"do not\", tweet)\n",
    "    tweet = re.sub(r\"dont\", \"do not\", tweet)\n",
    "    tweet = re.sub(r\"you're\", \"you are\", tweet)\n",
    "    tweet = re.sub(r\"i've\", \"I have\", tweet)\n",
    "    tweet = re.sub(r\"that's\", \"that is\", tweet)\n",
    "    tweet = re.sub(r\"i'll\", \"I will\", tweet)\n",
    "    tweet = re.sub(r\"doesn't\", \"does not\", tweet)\n",
    "    tweet = re.sub(r\"i'd\", \"I would\", tweet)\n",
    "    tweet = re.sub(r\"didn't\", \"did not\", tweet)\n",
    "    tweet = re.sub(r\"ain't\", \"am not\", tweet)\n",
    "    tweet = re.sub(r\"you'll\", \"you will\", tweet)\n",
    "    tweet = re.sub(r\"I've\", \"I have\", tweet)\n",
    "    tweet = re.sub(r\"Don't\", \"do not\", tweet)\n",
    "    tweet = re.sub(r\"I'll\", \"I will\", tweet)\n",
    "    tweet = re.sub(r\"I'd\", \"I would\", tweet)\n",
    "    tweet = re.sub(r\"Let's\", \"Let us\", tweet)\n",
    "    tweet = re.sub(r\"you'd\", \"You would\", tweet)\n",
    "    tweet = re.sub(r\"It's\", \"It is\", tweet)\n",
    "    tweet = re.sub(r\"Ain't\", \"am not\", tweet)\n",
    "    tweet = re.sub(r\"Haven't\", \"Have not\", tweet)\n",
    "    tweet = re.sub(r\"Could've\", \"Could have\", tweet)\n",
    "    tweet = re.sub(r\"youve\", \"you have\", tweet)  \n",
    "    tweet = re.sub(r\"donå«t\", \"do not\", tweet)\n",
    "    return tweet"
   ]
  },
  {
   "cell_type": "code",
   "execution_count": 6,
   "id": "7f472ce8",
   "metadata": {
    "execution": {
     "iopub.execute_input": "2021-12-31T11:43:37.567688Z",
     "iopub.status.busy": "2021-12-31T11:43:37.566693Z",
     "iopub.status.idle": "2021-12-31T11:43:39.138724Z",
     "shell.execute_reply": "2021-12-31T11:43:39.139275Z",
     "shell.execute_reply.started": "2021-12-31T11:40:48.422447Z"
    },
    "papermill": {
     "duration": 1.611462,
     "end_time": "2021-12-31T11:43:39.139458",
     "exception": false,
     "start_time": "2021-12-31T11:43:37.527996",
     "status": "completed"
    },
    "tags": []
   },
   "outputs": [],
   "source": [
    "train['text'] = train.text.apply(lambda x: tweet_cleaner(x))"
   ]
  },
  {
   "cell_type": "markdown",
   "id": "a4fe5046",
   "metadata": {
    "papermill": {
     "duration": 0.035367,
     "end_time": "2021-12-31T11:43:39.210876",
     "exception": false,
     "start_time": "2021-12-31T11:43:39.175509",
     "status": "completed"
    },
    "tags": []
   },
   "source": [
    "### Removing stop words"
   ]
  },
  {
   "cell_type": "code",
   "execution_count": 7,
   "id": "a3dbcab1",
   "metadata": {
    "execution": {
     "iopub.execute_input": "2021-12-31T11:43:39.286181Z",
     "iopub.status.busy": "2021-12-31T11:43:39.285180Z",
     "iopub.status.idle": "2021-12-31T11:43:39.336663Z",
     "shell.execute_reply": "2021-12-31T11:43:39.337143Z",
     "shell.execute_reply.started": "2021-12-31T11:10:45.136341Z"
    },
    "papermill": {
     "duration": 0.090774,
     "end_time": "2021-12-31T11:43:39.337338",
     "exception": false,
     "start_time": "2021-12-31T11:43:39.246564",
     "status": "completed"
    },
    "tags": []
   },
   "outputs": [],
   "source": [
    "from nltk.corpus import stopwords\n",
    "stop = set(stopwords.words(\"english\"))\n",
    "def remove_stopwords(text):\n",
    "    text = [word.lower() for word in text.split() if word.lower() not in stop]\n",
    "    return \" \".join(text)\n",
    "train[\"text\"] = train[\"text\"].map(remove_stopwords)"
   ]
  },
  {
   "cell_type": "code",
   "execution_count": 8,
   "id": "c9665f78",
   "metadata": {
    "execution": {
     "iopub.execute_input": "2021-12-31T11:43:39.413645Z",
     "iopub.status.busy": "2021-12-31T11:43:39.412673Z",
     "iopub.status.idle": "2021-12-31T11:43:39.422294Z",
     "shell.execute_reply": "2021-12-31T11:43:39.422830Z",
     "shell.execute_reply.started": "2021-12-31T11:10:45.186095Z"
    },
    "papermill": {
     "duration": 0.049466,
     "end_time": "2021-12-31T11:43:39.423008",
     "exception": false,
     "start_time": "2021-12-31T11:43:39.373542",
     "status": "completed"
    },
    "tags": []
   },
   "outputs": [
    {
     "data": {
      "text/plain": [
       "0              deed reason earthquake may allah forgive u\n",
       "1                   forest fire near la ronge sask canada\n",
       "2       resident asked shelter place notified officer ...\n",
       "3       people receive wildfire evacuation order calif...\n",
       "4       got sent photo ruby alaska smoke wildfire pour...\n",
       "                              ...                        \n",
       "7604    worldnews fallen powerlines glink tram update ...\n",
       "7605    flip side im walmart bomb everyone evacuate st...\n",
       "7606    suicide bomber kill saudi security site mosque...\n",
       "7608    two giant crane holding bridge collapse nearby...\n",
       "7612    latest home razed northern california wildfire...\n",
       "Name: text, Length: 7521, dtype: object"
      ]
     },
     "execution_count": 8,
     "metadata": {},
     "output_type": "execute_result"
    }
   ],
   "source": [
    "train.text"
   ]
  },
  {
   "cell_type": "markdown",
   "id": "9015d1ea",
   "metadata": {
    "papermill": {
     "duration": 0.035793,
     "end_time": "2021-12-31T11:43:39.495913",
     "exception": false,
     "start_time": "2021-12-31T11:43:39.460120",
     "status": "completed"
    },
    "tags": []
   },
   "source": [
    "### Embeddings using GloVe"
   ]
  },
  {
   "cell_type": "code",
   "execution_count": 9,
   "id": "a5dbcf2f",
   "metadata": {
    "execution": {
     "iopub.execute_input": "2021-12-31T11:43:39.573954Z",
     "iopub.status.busy": "2021-12-31T11:43:39.573325Z",
     "iopub.status.idle": "2021-12-31T11:43:39.578960Z",
     "shell.execute_reply": "2021-12-31T11:43:39.578443Z",
     "shell.execute_reply.started": "2021-12-31T11:10:45.200050Z"
    },
    "papermill": {
     "duration": 0.045513,
     "end_time": "2021-12-31T11:43:39.579147",
     "exception": false,
     "start_time": "2021-12-31T11:43:39.533634",
     "status": "completed"
    },
    "tags": []
   },
   "outputs": [],
   "source": [
    "from nltk.tokenize import word_tokenize\n",
    "import nltk\n",
    "\n",
    "def create_corpus_tk(df):\n",
    "    corpus=[]\n",
    "    for text in train[\"text\"]:\n",
    "        words = [word.lower() for word in word_tokenize(text)]\n",
    "        corpus.append(words)\n",
    "    return corpus"
   ]
  },
  {
   "cell_type": "code",
   "execution_count": 10,
   "id": "18c9228a",
   "metadata": {
    "execution": {
     "iopub.execute_input": "2021-12-31T11:43:39.656212Z",
     "iopub.status.busy": "2021-12-31T11:43:39.655520Z",
     "iopub.status.idle": "2021-12-31T11:43:41.122009Z",
     "shell.execute_reply": "2021-12-31T11:43:41.122507Z",
     "shell.execute_reply.started": "2021-12-31T11:10:45.216538Z"
    },
    "papermill": {
     "duration": 1.507024,
     "end_time": "2021-12-31T11:43:41.122698",
     "exception": false,
     "start_time": "2021-12-31T11:43:39.615674",
     "status": "completed"
    },
    "tags": []
   },
   "outputs": [],
   "source": [
    "corpus = create_corpus_tk(train)"
   ]
  },
  {
   "cell_type": "code",
   "execution_count": 11,
   "id": "e4c660ee",
   "metadata": {
    "execution": {
     "iopub.execute_input": "2021-12-31T11:43:41.199106Z",
     "iopub.status.busy": "2021-12-31T11:43:41.198438Z",
     "iopub.status.idle": "2021-12-31T11:43:41.204695Z",
     "shell.execute_reply": "2021-12-31T11:43:41.205289Z",
     "shell.execute_reply.started": "2021-12-31T11:10:46.124071Z"
    },
    "papermill": {
     "duration": 0.046099,
     "end_time": "2021-12-31T11:43:41.205480",
     "exception": false,
     "start_time": "2021-12-31T11:43:41.159381",
     "status": "completed"
    },
    "tags": []
   },
   "outputs": [
    {
     "name": "stdout",
     "output_type": "stream",
     "text": [
      "7521\n"
     ]
    }
   ],
   "source": [
    "num_words = len(corpus)\n",
    "print(num_words)"
   ]
  },
  {
   "cell_type": "markdown",
   "id": "fb978215",
   "metadata": {
    "papermill": {
     "duration": 0.036868,
     "end_time": "2021-12-31T11:43:41.279901",
     "exception": false,
     "start_time": "2021-12-31T11:43:41.243033",
     "status": "completed"
    },
    "tags": []
   },
   "source": [
    "### Train/Test Split"
   ]
  },
  {
   "cell_type": "code",
   "execution_count": 12,
   "id": "e4c3355d",
   "metadata": {
    "execution": {
     "iopub.execute_input": "2021-12-31T11:43:41.357055Z",
     "iopub.status.busy": "2021-12-31T11:43:41.356453Z",
     "iopub.status.idle": "2021-12-31T11:43:41.361078Z",
     "shell.execute_reply": "2021-12-31T11:43:41.361678Z",
     "shell.execute_reply.started": "2021-12-31T11:10:46.135258Z"
    },
    "papermill": {
     "duration": 0.045072,
     "end_time": "2021-12-31T11:43:41.361849",
     "exception": false,
     "start_time": "2021-12-31T11:43:41.316777",
     "status": "completed"
    },
    "tags": []
   },
   "outputs": [],
   "source": [
    "train_size = int(train.shape[0]*0.8)\n",
    "\n",
    "train_sentences = train.text[:train_size]\n",
    "train_labels = train.target[:train_size]\n",
    "\n",
    "test_sentences = train.text[train_size:]\n",
    "test_labels = train.target[train_size:]"
   ]
  },
  {
   "cell_type": "markdown",
   "id": "cf6317d6",
   "metadata": {
    "papermill": {
     "duration": 0.036869,
     "end_time": "2021-12-31T11:43:41.436000",
     "exception": false,
     "start_time": "2021-12-31T11:43:41.399131",
     "status": "completed"
    },
    "tags": []
   },
   "source": [
    "### Convert texts to Sequence of numbers"
   ]
  },
  {
   "cell_type": "code",
   "execution_count": 13,
   "id": "58dabae8",
   "metadata": {
    "execution": {
     "iopub.execute_input": "2021-12-31T11:43:41.514876Z",
     "iopub.status.busy": "2021-12-31T11:43:41.514141Z",
     "iopub.status.idle": "2021-12-31T11:43:46.903089Z",
     "shell.execute_reply": "2021-12-31T11:43:46.903619Z",
     "shell.execute_reply.started": "2021-12-31T11:10:46.151915Z"
    },
    "papermill": {
     "duration": 5.430882,
     "end_time": "2021-12-31T11:43:46.903809",
     "exception": false,
     "start_time": "2021-12-31T11:43:41.472927",
     "status": "completed"
    },
    "tags": []
   },
   "outputs": [],
   "source": [
    "from keras.preprocessing.text import Tokenizer\n",
    "from keras.preprocessing.sequence import pad_sequences\n",
    "max_len = 50"
   ]
  },
  {
   "cell_type": "code",
   "execution_count": 14,
   "id": "9715becc",
   "metadata": {
    "execution": {
     "iopub.execute_input": "2021-12-31T11:43:46.981120Z",
     "iopub.status.busy": "2021-12-31T11:43:46.980459Z",
     "iopub.status.idle": "2021-12-31T11:43:47.111206Z",
     "shell.execute_reply": "2021-12-31T11:43:47.111727Z",
     "shell.execute_reply.started": "2021-12-31T11:10:52.505027Z"
    },
    "papermill": {
     "duration": 0.171382,
     "end_time": "2021-12-31T11:43:47.111922",
     "exception": false,
     "start_time": "2021-12-31T11:43:46.940540",
     "status": "completed"
    },
    "tags": []
   },
   "outputs": [],
   "source": [
    "tokenizer = Tokenizer(num_words = num_words)\n",
    "tokenizer.fit_on_texts(train_sentences)"
   ]
  },
  {
   "cell_type": "code",
   "execution_count": 15,
   "id": "6e45a13c",
   "metadata": {
    "execution": {
     "iopub.execute_input": "2021-12-31T11:43:47.188717Z",
     "iopub.status.busy": "2021-12-31T11:43:47.188049Z",
     "iopub.status.idle": "2021-12-31T11:43:47.279593Z",
     "shell.execute_reply": "2021-12-31T11:43:47.279030Z",
     "shell.execute_reply.started": "2021-12-31T11:10:52.637950Z"
    },
    "papermill": {
     "duration": 0.131267,
     "end_time": "2021-12-31T11:43:47.279744",
     "exception": false,
     "start_time": "2021-12-31T11:43:47.148477",
     "status": "completed"
    },
    "tags": []
   },
   "outputs": [],
   "source": [
    "train_sequences = tokenizer.texts_to_sequences(train_sentences)"
   ]
  },
  {
   "cell_type": "code",
   "execution_count": 16,
   "id": "d85e233a",
   "metadata": {
    "execution": {
     "iopub.execute_input": "2021-12-31T11:43:47.358964Z",
     "iopub.status.busy": "2021-12-31T11:43:47.358350Z",
     "iopub.status.idle": "2021-12-31T11:43:47.364161Z",
     "shell.execute_reply": "2021-12-31T11:43:47.364702Z",
     "shell.execute_reply.started": "2021-12-31T11:10:52.727786Z"
    },
    "papermill": {
     "duration": 0.047971,
     "end_time": "2021-12-31T11:43:47.364875",
     "exception": false,
     "start_time": "2021-12-31T11:43:47.316904",
     "status": "completed"
    },
    "tags": []
   },
   "outputs": [
    {
     "data": {
      "text/plain": [
       "0           deed reason earthquake may allah forgive u\n",
       "1                forest fire near la ronge sask canada\n",
       "2    resident asked shelter place notified officer ...\n",
       "3    people receive wildfire evacuation order calif...\n",
       "4    got sent photo ruby alaska smoke wildfire pour...\n",
       "Name: text, dtype: object"
      ]
     },
     "execution_count": 16,
     "metadata": {},
     "output_type": "execute_result"
    }
   ],
   "source": [
    "train_sentences.head()"
   ]
  },
  {
   "cell_type": "code",
   "execution_count": 17,
   "id": "76eac9f9",
   "metadata": {
    "execution": {
     "iopub.execute_input": "2021-12-31T11:43:47.443744Z",
     "iopub.status.busy": "2021-12-31T11:43:47.442777Z",
     "iopub.status.idle": "2021-12-31T11:43:47.448891Z",
     "shell.execute_reply": "2021-12-31T11:43:47.449494Z",
     "shell.execute_reply.started": "2021-12-31T11:10:52.737571Z"
    },
    "papermill": {
     "duration": 0.046923,
     "end_time": "2021-12-31T11:43:47.449658",
     "exception": false,
     "start_time": "2021-12-31T11:43:47.402735",
     "status": "completed"
    },
    "tags": []
   },
   "outputs": [
    {
     "data": {
      "text/plain": [
       "[[82, 2, 147, 449, 5015, 5016, 1133],\n",
       " [1371, 1134, 1772, 450, 5017, 971, 138, 1772, 450, 308, 1135],\n",
       " [11, 3365, 104, 138, 308, 33],\n",
       " [38, 1052, 117, 5018, 1223, 879, 104, 5019, 98]]"
      ]
     },
     "execution_count": 17,
     "metadata": {},
     "output_type": "execute_result"
    }
   ],
   "source": [
    "train_sequences[1:5]"
   ]
  },
  {
   "cell_type": "code",
   "execution_count": 18,
   "id": "ec58b0c8",
   "metadata": {
    "execution": {
     "iopub.execute_input": "2021-12-31T11:43:47.528438Z",
     "iopub.status.busy": "2021-12-31T11:43:47.527467Z",
     "iopub.status.idle": "2021-12-31T11:43:47.575526Z",
     "shell.execute_reply": "2021-12-31T11:43:47.574941Z",
     "shell.execute_reply.started": "2021-12-31T11:10:52.752751Z"
    },
    "papermill": {
     "duration": 0.088491,
     "end_time": "2021-12-31T11:43:47.575667",
     "exception": false,
     "start_time": "2021-12-31T11:43:47.487176",
     "status": "completed"
    },
    "tags": []
   },
   "outputs": [],
   "source": [
    "# padding our sequences to pass it in keras model (inputs should be of the same size)\n",
    "train_padded = pad_sequences(\n",
    "    train_sequences, maxlen=max_len, truncating=\"post\", padding=\"post\"\n",
    ")"
   ]
  },
  {
   "cell_type": "code",
   "execution_count": 19,
   "id": "dd2185d8",
   "metadata": {
    "execution": {
     "iopub.execute_input": "2021-12-31T11:43:47.657923Z",
     "iopub.status.busy": "2021-12-31T11:43:47.657154Z",
     "iopub.status.idle": "2021-12-31T11:43:47.660266Z",
     "shell.execute_reply": "2021-12-31T11:43:47.660780Z",
     "shell.execute_reply.started": "2021-12-31T11:10:52.792098Z"
    },
    "papermill": {
     "duration": 0.047979,
     "end_time": "2021-12-31T11:43:47.660950",
     "exception": false,
     "start_time": "2021-12-31T11:43:47.612971",
     "status": "completed"
    },
    "tags": []
   },
   "outputs": [
    {
     "data": {
      "text/plain": [
       "array([[3363,  495,  248, ...,    0,    0,    0],\n",
       "       [  82,    2,  147, ...,    0,    0,    0],\n",
       "       [1371, 1134, 1772, ...,    0,    0,    0],\n",
       "       ...,\n",
       "       [  20,   72,  312, ...,    0,    0,    0],\n",
       "       [ 118,    3, 1318, ...,    0,    0,    0],\n",
       "       [1318,  444,   17, ...,    0,    0,    0]], dtype=int32)"
      ]
     },
     "execution_count": 19,
     "metadata": {},
     "output_type": "execute_result"
    }
   ],
   "source": [
    "train_padded"
   ]
  },
  {
   "cell_type": "code",
   "execution_count": 20,
   "id": "e51c6525",
   "metadata": {
    "execution": {
     "iopub.execute_input": "2021-12-31T11:43:47.765166Z",
     "iopub.status.busy": "2021-12-31T11:43:47.760417Z",
     "iopub.status.idle": "2021-12-31T11:43:47.778062Z",
     "shell.execute_reply": "2021-12-31T11:43:47.777358Z",
     "shell.execute_reply.started": "2021-12-31T11:10:52.802586Z"
    },
    "papermill": {
     "duration": 0.079405,
     "end_time": "2021-12-31T11:43:47.778222",
     "exception": false,
     "start_time": "2021-12-31T11:43:47.698817",
     "status": "completed"
    },
    "tags": []
   },
   "outputs": [],
   "source": [
    "# padding the test data\n",
    "test_sequences = tokenizer.texts_to_sequences(test_sentences)\n",
    "test_padded = pad_sequences(\n",
    "    test_sequences, maxlen=max_len, padding=\"post\", truncating=\"post\"\n",
    ")"
   ]
  },
  {
   "cell_type": "code",
   "execution_count": 21,
   "id": "7480330b",
   "metadata": {
    "execution": {
     "iopub.execute_input": "2021-12-31T11:43:47.858470Z",
     "iopub.status.busy": "2021-12-31T11:43:47.857746Z",
     "iopub.status.idle": "2021-12-31T11:43:47.862755Z",
     "shell.execute_reply": "2021-12-31T11:43:47.863375Z",
     "shell.execute_reply.started": "2021-12-31T11:10:52.844256Z"
    },
    "papermill": {
     "duration": 0.047176,
     "end_time": "2021-12-31T11:43:47.863546",
     "exception": false,
     "start_time": "2021-12-31T11:43:47.816370",
     "status": "completed"
    },
    "tags": []
   },
   "outputs": [
    {
     "data": {
      "text/plain": [
       "array([[ 118,  234,  615, ...,    0,    0,    0],\n",
       "       [ 291, 1318,  679, ...,    0,    0,    0],\n",
       "       [ 381, 1318,  653, ...,    0,    0,    0],\n",
       "       ...,\n",
       "       [1083,  171, 1842, ...,    0,    0,    0],\n",
       "       [  50,  570,  865, ...,    0,    0,    0],\n",
       "       [ 106,   23,  342, ...,    0,    0,    0]], dtype=int32)"
      ]
     },
     "execution_count": 21,
     "metadata": {},
     "output_type": "execute_result"
    }
   ],
   "source": [
    "test_padded"
   ]
  },
  {
   "cell_type": "code",
   "execution_count": 22,
   "id": "be13d175",
   "metadata": {
    "execution": {
     "iopub.execute_input": "2021-12-31T11:43:47.944543Z",
     "iopub.status.busy": "2021-12-31T11:43:47.943824Z",
     "iopub.status.idle": "2021-12-31T11:43:47.951479Z",
     "shell.execute_reply": "2021-12-31T11:43:47.952244Z",
     "shell.execute_reply.started": "2021-12-31T11:10:52.853437Z"
    },
    "papermill": {
     "duration": 0.049798,
     "end_time": "2021-12-31T11:43:47.952471",
     "exception": false,
     "start_time": "2021-12-31T11:43:47.902673",
     "status": "completed"
    },
    "tags": []
   },
   "outputs": [
    {
     "name": "stdout",
     "output_type": "stream",
     "text": [
      "deed reason earthquake may allah forgive u\n",
      "[3363, 495, 248, 57, 1532, 3364, 7]\n"
     ]
    }
   ],
   "source": [
    "print(train.text[0])\n",
    "print(train_sequences[0])"
   ]
  },
  {
   "cell_type": "code",
   "execution_count": 23,
   "id": "5ac7e70e",
   "metadata": {
    "execution": {
     "iopub.execute_input": "2021-12-31T11:43:48.035158Z",
     "iopub.status.busy": "2021-12-31T11:43:48.034387Z",
     "iopub.status.idle": "2021-12-31T11:43:48.039721Z",
     "shell.execute_reply": "2021-12-31T11:43:48.040490Z",
     "shell.execute_reply.started": "2021-12-31T11:10:52.868042Z"
    },
    "papermill": {
     "duration": 0.048861,
     "end_time": "2021-12-31T11:43:48.040728",
     "exception": false,
     "start_time": "2021-12-31T11:43:47.991867",
     "status": "completed"
    },
    "tags": []
   },
   "outputs": [
    {
     "name": "stdout",
     "output_type": "stream",
     "text": [
      "17160\n"
     ]
    }
   ],
   "source": [
    "# creating a dictionary out of the words and their respective sequences\n",
    "word_index = tokenizer.word_index\n",
    "print(len(word_index))"
   ]
  },
  {
   "cell_type": "code",
   "execution_count": 24,
   "id": "384c2d24",
   "metadata": {
    "execution": {
     "iopub.execute_input": "2021-12-31T11:43:48.123144Z",
     "iopub.status.busy": "2021-12-31T11:43:48.122460Z",
     "iopub.status.idle": "2021-12-31T11:43:48.127895Z",
     "shell.execute_reply": "2021-12-31T11:43:48.128410Z",
     "shell.execute_reply.started": "2021-12-31T11:10:52.881181Z"
    },
    "papermill": {
     "duration": 0.047847,
     "end_time": "2021-12-31T11:43:48.128578",
     "exception": false,
     "start_time": "2021-12-31T11:43:48.080731",
     "status": "completed"
    },
    "tags": []
   },
   "outputs": [
    {
     "data": {
      "text/plain": [
       "3"
      ]
     },
     "execution_count": 24,
     "metadata": {},
     "output_type": "execute_result"
    }
   ],
   "source": [
    "word_index[\"like\"]"
   ]
  },
  {
   "cell_type": "markdown",
   "id": "298f4758",
   "metadata": {
    "papermill": {
     "duration": 0.039077,
     "end_time": "2021-12-31T11:43:48.206713",
     "exception": false,
     "start_time": "2021-12-31T11:43:48.167636",
     "status": "completed"
    },
    "tags": []
   },
   "source": [
    "### Creating the Embedding dict"
   ]
  },
  {
   "cell_type": "code",
   "execution_count": 25,
   "id": "2a1a9cb1",
   "metadata": {
    "execution": {
     "iopub.execute_input": "2021-12-31T11:43:48.288580Z",
     "iopub.status.busy": "2021-12-31T11:43:48.287582Z",
     "iopub.status.idle": "2021-12-31T11:44:45.396984Z",
     "shell.execute_reply": "2021-12-31T11:44:45.396334Z",
     "shell.execute_reply.started": "2021-12-31T11:10:52.900457Z"
    },
    "papermill": {
     "duration": 57.151455,
     "end_time": "2021-12-31T11:44:45.397151",
     "exception": false,
     "start_time": "2021-12-31T11:43:48.245696",
     "status": "completed"
    },
    "tags": []
   },
   "outputs": [],
   "source": [
    "embedding_dict = {}\n",
    "with open(\"../input/glovetwitter27b100dtxt/glove.twitter.27B.100d.txt\") as f:\n",
    "    for line in f:\n",
    "        values = line.split()\n",
    "        word = values[0]\n",
    "        vectors = np.array(values[1:],\"float32\")\n",
    "        embedding_dict[word] = vectors\n",
    "f.close()"
   ]
  },
  {
   "cell_type": "code",
   "execution_count": 26,
   "id": "6fad7fa6",
   "metadata": {
    "execution": {
     "iopub.execute_input": "2021-12-31T11:44:45.485325Z",
     "iopub.status.busy": "2021-12-31T11:44:45.484335Z",
     "iopub.status.idle": "2021-12-31T11:44:45.526946Z",
     "shell.execute_reply": "2021-12-31T11:44:45.526326Z",
     "shell.execute_reply.started": "2021-12-31T11:11:29.963129Z"
    },
    "papermill": {
     "duration": 0.087418,
     "end_time": "2021-12-31T11:44:45.527086",
     "exception": false,
     "start_time": "2021-12-31T11:44:45.439668",
     "status": "completed"
    },
    "tags": []
   },
   "outputs": [],
   "source": [
    "num_words = len(word_index)+1\n",
    "embedding_matrix = np.zeros((num_words,100))\n",
    "\n",
    "for word, i in word_index.items():\n",
    "    if i<num_words:\n",
    "        emb_vec = embedding_dict.get(word)\n",
    "        if emb_vec is not None:\n",
    "            embedding_matrix[i] = emb_vec"
   ]
  },
  {
   "cell_type": "code",
   "execution_count": 27,
   "id": "0f495ac7",
   "metadata": {
    "execution": {
     "iopub.execute_input": "2021-12-31T11:44:45.613169Z",
     "iopub.status.busy": "2021-12-31T11:44:45.612276Z",
     "iopub.status.idle": "2021-12-31T11:44:45.615828Z",
     "shell.execute_reply": "2021-12-31T11:44:45.616329Z",
     "shell.execute_reply.started": "2021-12-31T11:11:30.014819Z"
    },
    "papermill": {
     "duration": 0.050168,
     "end_time": "2021-12-31T11:44:45.616507",
     "exception": false,
     "start_time": "2021-12-31T11:44:45.566339",
     "status": "completed"
    },
    "tags": []
   },
   "outputs": [
    {
     "data": {
      "text/plain": [
       "array([[ 0.        ,  0.        ,  0.        , ...,  0.        ,\n",
       "         0.        ,  0.        ],\n",
       "       [ 0.26750001,  0.77982002, -0.87296999, ...,  0.77863997,\n",
       "        -0.35301   ,  1.02509999],\n",
       "       [ 0.066373  ,  1.09249997, -0.59674001, ...,  0.040076  ,\n",
       "        -0.12083   , -0.1785    ],\n",
       "       ...,\n",
       "       [ 0.048457  , -0.54645997, -0.05239   , ..., -0.32775   ,\n",
       "        -0.22183   ,  0.18402   ],\n",
       "       [-0.02567   ,  0.67838001, -0.26210001, ...,  0.11029   ,\n",
       "         0.92426997, -0.6354    ],\n",
       "       [ 0.        ,  0.        ,  0.        , ...,  0.        ,\n",
       "         0.        ,  0.        ]])"
      ]
     },
     "execution_count": 27,
     "metadata": {},
     "output_type": "execute_result"
    }
   ],
   "source": [
    "embedding_matrix"
   ]
  },
  {
   "cell_type": "code",
   "execution_count": 28,
   "id": "6aa39372",
   "metadata": {
    "execution": {
     "iopub.execute_input": "2021-12-31T11:44:45.702127Z",
     "iopub.status.busy": "2021-12-31T11:44:45.701368Z",
     "iopub.status.idle": "2021-12-31T11:44:45.705556Z",
     "shell.execute_reply": "2021-12-31T11:44:45.704827Z",
     "shell.execute_reply.started": "2021-12-31T11:11:30.024621Z"
    },
    "papermill": {
     "duration": 0.049646,
     "end_time": "2021-12-31T11:44:45.705758",
     "exception": false,
     "start_time": "2021-12-31T11:44:45.656112",
     "status": "completed"
    },
    "tags": []
   },
   "outputs": [
    {
     "name": "stdout",
     "output_type": "stream",
     "text": [
      "(6016, 50)\n",
      "(6016,)\n"
     ]
    }
   ],
   "source": [
    "print(train_padded.shape)\n",
    "print(train_labels.shape)"
   ]
  },
  {
   "cell_type": "code",
   "execution_count": 29,
   "id": "98a20d65",
   "metadata": {
    "execution": {
     "iopub.execute_input": "2021-12-31T11:44:45.791884Z",
     "iopub.status.busy": "2021-12-31T11:44:45.791157Z",
     "iopub.status.idle": "2021-12-31T11:44:45.793852Z",
     "shell.execute_reply": "2021-12-31T11:44:45.794420Z",
     "shell.execute_reply.started": "2021-12-31T11:11:30.037129Z"
    },
    "papermill": {
     "duration": 0.047994,
     "end_time": "2021-12-31T11:44:45.794653",
     "exception": false,
     "start_time": "2021-12-31T11:44:45.746659",
     "status": "completed"
    },
    "tags": []
   },
   "outputs": [
    {
     "name": "stdout",
     "output_type": "stream",
     "text": [
      "(1505, 50)\n",
      "(1505,)\n"
     ]
    }
   ],
   "source": [
    "print(test_padded.shape)\n",
    "print(test_labels.shape)"
   ]
  },
  {
   "cell_type": "markdown",
   "id": "b2a067b7",
   "metadata": {
    "papermill": {
     "duration": 0.04034,
     "end_time": "2021-12-31T11:44:45.878960",
     "exception": false,
     "start_time": "2021-12-31T11:44:45.838620",
     "status": "completed"
    },
    "tags": []
   },
   "source": [
    "### Baseline Model with GloVe"
   ]
  },
  {
   "cell_type": "code",
   "execution_count": 30,
   "id": "2a408113",
   "metadata": {
    "execution": {
     "iopub.execute_input": "2021-12-31T11:44:45.969298Z",
     "iopub.status.busy": "2021-12-31T11:44:45.968570Z",
     "iopub.status.idle": "2021-12-31T11:44:46.296379Z",
     "shell.execute_reply": "2021-12-31T11:44:46.297107Z",
     "shell.execute_reply.started": "2021-12-31T11:12:43.614913Z"
    },
    "papermill": {
     "duration": 0.377503,
     "end_time": "2021-12-31T11:44:46.297357",
     "exception": false,
     "start_time": "2021-12-31T11:44:45.919854",
     "status": "completed"
    },
    "tags": []
   },
   "outputs": [
    {
     "name": "stderr",
     "output_type": "stream",
     "text": [
      "\n",
      "User settings:\n",
      "\n",
      "   KMP_AFFINITY=granularity=fine,verbose,compact,1,0\n",
      "   KMP_BLOCKTIME=0\n",
      "   KMP_DUPLICATE_LIB_OK=True\n",
      "   KMP_INIT_AT_FORK=FALSE\n",
      "   KMP_SETTINGS=1\n",
      "   KMP_WARNINGS=0\n",
      "\n",
      "Effective settings:\n",
      "\n",
      "   KMP_ABORT_DELAY=0\n",
      "   KMP_ADAPTIVE_LOCK_PROPS='1,1024'\n",
      "   KMP_ALIGN_ALLOC=64\n",
      "   KMP_ALL_THREADPRIVATE=128\n",
      "   KMP_ATOMIC_MODE=2\n",
      "   KMP_BLOCKTIME=0\n",
      "   KMP_CPUINFO_FILE: value is not defined\n",
      "   KMP_DETERMINISTIC_REDUCTION=false\n",
      "   KMP_DEVICE_THREAD_LIMIT=2147483647\n",
      "   KMP_DISP_NUM_BUFFERS=7\n",
      "   KMP_DUPLICATE_LIB_OK=true\n",
      "   KMP_ENABLE_TASK_THROTTLING=true\n",
      "   KMP_FORCE_REDUCTION: value is not defined\n",
      "   KMP_FOREIGN_THREADS_THREADPRIVATE=true\n",
      "   KMP_FORKJOIN_BARRIER='2,2'\n",
      "   KMP_FORKJOIN_BARRIER_PATTERN='hyper,hyper'\n",
      "   KMP_GTID_MODE=3\n",
      "   KMP_HANDLE_SIGNALS=false\n",
      "   KMP_HOT_TEAMS_MAX_LEVEL=1\n",
      "   KMP_HOT_TEAMS_MODE=0\n",
      "   KMP_INIT_AT_FORK=true\n",
      "   KMP_LIBRARY=throughput\n",
      "   KMP_LOCK_KIND=queuing\n",
      "   KMP_MALLOC_POOL_INCR=1M\n",
      "   KMP_NUM_LOCKS_IN_BLOCK=1\n",
      "   KMP_PLAIN_BARRIER='2,2'\n",
      "   KMP_PLAIN_BARRIER_PATTERN='hyper,hyper'\n",
      "   KMP_REDUCTION_BARRIER='1,1'\n",
      "   KMP_REDUCTION_BARRIER_PATTERN='hyper,hyper'\n",
      "   KMP_SCHEDULE='static,balanced;guided,iterative'\n",
      "   KMP_SETTINGS=true\n",
      "   KMP_SPIN_BACKOFF_PARAMS='4096,100'\n",
      "   KMP_STACKOFFSET=64\n",
      "   KMP_STACKPAD=0\n",
      "   KMP_STACKSIZE=8M\n",
      "   KMP_STORAGE_MAP=false\n",
      "   KMP_TASKING=2\n",
      "   KMP_TASKLOOP_MIN_TASKS=0\n",
      "   KMP_TASK_STEALING_CONSTRAINT=1\n",
      "   KMP_TEAMS_THREAD_LIMIT=4\n",
      "   KMP_TOPOLOGY_METHOD=all\n",
      "   KMP_USE_YIELD=1\n",
      "   KMP_VERSION=false\n",
      "   KMP_WARNINGS=false\n",
      "   OMP_AFFINITY_FORMAT='OMP: pid %P tid %i thread %n bound to OS proc set {%A}'\n",
      "   OMP_ALLOCATOR=omp_default_mem_alloc\n",
      "   OMP_CANCELLATION=false\n",
      "   OMP_DEFAULT_DEVICE=0\n",
      "   OMP_DISPLAY_AFFINITY=false\n",
      "   OMP_DISPLAY_ENV=false\n",
      "   OMP_DYNAMIC=false\n",
      "   OMP_MAX_ACTIVE_LEVELS=1\n",
      "   OMP_MAX_TASK_PRIORITY=0\n",
      "   OMP_NESTED: deprecated; max-active-levels-var=1\n",
      "   OMP_NUM_THREADS: value is not defined\n",
      "   OMP_PLACES: value is not defined\n",
      "   OMP_PROC_BIND='intel'\n",
      "   OMP_SCHEDULE='static'\n",
      "   OMP_STACKSIZE=8M\n",
      "   OMP_TARGET_OFFLOAD=DEFAULT\n",
      "   OMP_THREAD_LIMIT=2147483647\n",
      "   OMP_WAIT_POLICY=PASSIVE\n",
      "   KMP_AFFINITY='verbose,warnings,respect,granularity=fine,compact,1,0'\n",
      "\n",
      "2021-12-31 11:44:46.011718: I tensorflow/core/common_runtime/process_util.cc:146] Creating new thread pool with default inter op setting: 2. Tune using inter_op_parallelism_threads for best performance.\n"
     ]
    },
    {
     "name": "stdout",
     "output_type": "stream",
     "text": [
      "Model: \"sequential\"\n",
      "_________________________________________________________________\n",
      "Layer (type)                 Output Shape              Param #   \n",
      "=================================================================\n",
      "embedding (Embedding)        (None, 50, 100)           1716100   \n",
      "_________________________________________________________________\n",
      "spatial_dropout1d (SpatialDr (None, 50, 100)           0         \n",
      "_________________________________________________________________\n",
      "lstm (LSTM)                  (None, 100)               80400     \n",
      "_________________________________________________________________\n",
      "dense (Dense)                (None, 1)                 101       \n",
      "=================================================================\n",
      "Total params: 1,796,601\n",
      "Trainable params: 80,501\n",
      "Non-trainable params: 1,716,100\n",
      "_________________________________________________________________\n"
     ]
    }
   ],
   "source": [
    "from keras.models import Sequential\n",
    "from keras.layers import Embedding, LSTM, Dense, Dropout, SpatialDropout1D\n",
    "from keras.initializers import Constant\n",
    "from keras.optimizers import adam_v2\n",
    "\n",
    "model = Sequential()\n",
    "\n",
    "model.add(\n",
    "    Embedding(\n",
    "        num_words,\n",
    "        100,\n",
    "        embeddings_initializer = Constant(embedding_matrix),\n",
    "        input_length = max_len,\n",
    "        trainable = False\n",
    "    )\n",
    ")\n",
    "model.add(SpatialDropout1D(0.2))\n",
    "model.add(LSTM(100, dropout=0.2, recurrent_dropout=0.2)) \n",
    "# model.add(LSTM(100,dropout=0.1))\n",
    "model.add(Dense(1, activation=\"sigmoid\"))\n",
    "\n",
    "optimizer = adam_v2.Adam(learning_rate=5e-3)\n",
    "model.compile(loss=\"binary_crossentropy\", optimizer=optimizer, metrics=[\"accuracy\"])\n",
    "model.summary() "
   ]
  },
  {
   "cell_type": "code",
   "execution_count": 31,
   "id": "5b0cea57",
   "metadata": {
    "execution": {
     "iopub.execute_input": "2021-12-31T11:44:46.386426Z",
     "iopub.status.busy": "2021-12-31T11:44:46.385415Z",
     "iopub.status.idle": "2021-12-31T11:50:04.269234Z",
     "shell.execute_reply": "2021-12-31T11:50:04.269836Z",
     "shell.execute_reply.started": "2021-12-31T11:12:48.277261Z"
    },
    "papermill": {
     "duration": 317.931169,
     "end_time": "2021-12-31T11:50:04.270039",
     "exception": false,
     "start_time": "2021-12-31T11:44:46.338870",
     "status": "completed"
    },
    "tags": []
   },
   "outputs": [
    {
     "name": "stderr",
     "output_type": "stream",
     "text": [
      "2021-12-31 11:44:46.439460: I tensorflow/compiler/mlir/mlir_graph_optimization_pass.cc:185] None of the MLIR Optimization Passes are enabled (registered 2)\n"
     ]
    },
    {
     "name": "stdout",
     "output_type": "stream",
     "text": [
      "Epoch 1/15\n",
      "188/188 [==============================] - 24s 115ms/step - loss: 0.6761 - accuracy: 0.5730 - val_loss: 0.6899 - val_accuracy: 0.5409\n",
      "Epoch 2/15\n",
      "188/188 [==============================] - 20s 108ms/step - loss: 0.6728 - accuracy: 0.5765 - val_loss: 0.6870 - val_accuracy: 0.5409\n",
      "Epoch 3/15\n",
      "188/188 [==============================] - 21s 111ms/step - loss: 0.6751 - accuracy: 0.5763 - val_loss: 0.6988 - val_accuracy: 0.5409\n",
      "Epoch 4/15\n",
      "188/188 [==============================] - 21s 111ms/step - loss: 0.6722 - accuracy: 0.5819 - val_loss: 0.6884 - val_accuracy: 0.5409\n",
      "Epoch 5/15\n",
      "188/188 [==============================] - 21s 109ms/step - loss: 0.6666 - accuracy: 0.5819 - val_loss: 0.6838 - val_accuracy: 0.5409\n",
      "Epoch 6/15\n",
      "188/188 [==============================] - 21s 112ms/step - loss: 0.6732 - accuracy: 0.5800 - val_loss: 0.6910 - val_accuracy: 0.5409\n",
      "Epoch 7/15\n",
      "188/188 [==============================] - 21s 111ms/step - loss: 0.6792 - accuracy: 0.5819 - val_loss: 0.6904 - val_accuracy: 0.5409\n",
      "Epoch 8/15\n",
      "188/188 [==============================] - 21s 110ms/step - loss: 0.6769 - accuracy: 0.5819 - val_loss: 0.6903 - val_accuracy: 0.5409\n",
      "Epoch 9/15\n",
      "188/188 [==============================] - 21s 114ms/step - loss: 0.6800 - accuracy: 0.5819 - val_loss: 0.6909 - val_accuracy: 0.5409\n",
      "Epoch 10/15\n",
      "188/188 [==============================] - 21s 112ms/step - loss: 0.6785 - accuracy: 0.5819 - val_loss: 0.6914 - val_accuracy: 0.5409\n",
      "Epoch 11/15\n",
      "188/188 [==============================] - 21s 110ms/step - loss: 0.6789 - accuracy: 0.5819 - val_loss: 0.6946 - val_accuracy: 0.5409\n",
      "Epoch 12/15\n",
      "188/188 [==============================] - 21s 114ms/step - loss: 0.6576 - accuracy: 0.6090 - val_loss: 0.6169 - val_accuracy: 0.5382\n",
      "Epoch 13/15\n",
      "188/188 [==============================] - 21s 110ms/step - loss: 0.5714 - accuracy: 0.7161 - val_loss: 0.5102 - val_accuracy: 0.7854\n",
      "Epoch 14/15\n",
      "188/188 [==============================] - 21s 114ms/step - loss: 0.5190 - accuracy: 0.7620 - val_loss: 0.4745 - val_accuracy: 0.7900\n",
      "Epoch 15/15\n",
      "188/188 [==============================] - 21s 114ms/step - loss: 0.4960 - accuracy: 0.7753 - val_loss: 0.4795 - val_accuracy: 0.7867\n"
     ]
    }
   ],
   "source": [
    "history  = model.fit(\n",
    "    train_padded,\n",
    "    train_labels,\n",
    "    epochs=15,\n",
    "    validation_data=(test_padded, test_labels),\n",
    "    verbose=1,\n",
    "    batch_size=32\n",
    ")"
   ]
  },
  {
   "cell_type": "code",
   "execution_count": 32,
   "id": "72051470",
   "metadata": {
    "execution": {
     "iopub.execute_input": "2021-12-31T11:50:06.096325Z",
     "iopub.status.busy": "2021-12-31T11:50:06.095326Z",
     "iopub.status.idle": "2021-12-31T11:50:07.134812Z",
     "shell.execute_reply": "2021-12-31T11:50:07.134215Z",
     "shell.execute_reply.started": "2021-12-31T11:22:03.360928Z"
    },
    "papermill": {
     "duration": 1.962112,
     "end_time": "2021-12-31T11:50:07.134954",
     "exception": false,
     "start_time": "2021-12-31T11:50:05.172842",
     "status": "completed"
    },
    "tags": []
   },
   "outputs": [],
   "source": [
    "# test data for submission\n",
    "test['text'] = test.text.apply(lambda x: clean(x))\n",
    "test[\"text\"] = test[\"text\"].map(remove_stopwords)\n",
    "test['text'] = test.text.apply(lambda x: tweet_cleaner(x))"
   ]
  },
  {
   "cell_type": "code",
   "execution_count": 33,
   "id": "1c8e0300",
   "metadata": {
    "execution": {
     "iopub.execute_input": "2021-12-31T11:50:09.032995Z",
     "iopub.status.busy": "2021-12-31T11:50:09.031969Z",
     "iopub.status.idle": "2021-12-31T11:50:09.110056Z",
     "shell.execute_reply": "2021-12-31T11:50:09.108853Z",
     "shell.execute_reply.started": "2021-12-31T11:22:11.656230Z"
    },
    "papermill": {
     "duration": 1.000678,
     "end_time": "2021-12-31T11:50:09.110263",
     "exception": false,
     "start_time": "2021-12-31T11:50:08.109585",
     "status": "completed"
    },
    "tags": []
   },
   "outputs": [],
   "source": [
    "sequences = tokenizer.texts_to_sequences(test.text)\n",
    "padded = pad_sequences(sequences, maxlen=max_len, padding=\"post\", truncating=\"post\")"
   ]
  },
  {
   "cell_type": "code",
   "execution_count": 34,
   "id": "3783f535",
   "metadata": {
    "execution": {
     "iopub.execute_input": "2021-12-31T11:50:10.944661Z",
     "iopub.status.busy": "2021-12-31T11:50:10.943605Z",
     "iopub.status.idle": "2021-12-31T11:50:14.319111Z",
     "shell.execute_reply": "2021-12-31T11:50:14.318397Z",
     "shell.execute_reply.started": "2021-12-31T11:23:15.755306Z"
    },
    "papermill": {
     "duration": 4.29163,
     "end_time": "2021-12-31T11:50:14.319297",
     "exception": false,
     "start_time": "2021-12-31T11:50:10.027667",
     "status": "completed"
    },
    "tags": []
   },
   "outputs": [],
   "source": [
    "pred = model.predict(padded)\n",
    "pred_int = pred.round().astype(\"int\")"
   ]
  },
  {
   "cell_type": "code",
   "execution_count": 35,
   "id": "2755286b",
   "metadata": {
    "execution": {
     "iopub.execute_input": "2021-12-31T11:50:16.137449Z",
     "iopub.status.busy": "2021-12-31T11:50:16.136770Z",
     "iopub.status.idle": "2021-12-31T11:50:16.142123Z",
     "shell.execute_reply": "2021-12-31T11:50:16.142758Z",
     "shell.execute_reply.started": "2021-12-31T11:23:20.712019Z"
    },
    "papermill": {
     "duration": 0.918096,
     "end_time": "2021-12-31T11:50:16.142932",
     "exception": false,
     "start_time": "2021-12-31T11:50:15.224836",
     "status": "completed"
    },
    "tags": []
   },
   "outputs": [
    {
     "data": {
      "text/plain": [
       "array([[0.6889759 ],\n",
       "       [0.603262  ],\n",
       "       [0.8279537 ],\n",
       "       ...,\n",
       "       [0.8037715 ],\n",
       "       [0.81113076],\n",
       "       [0.4241085 ]], dtype=float32)"
      ]
     },
     "execution_count": 35,
     "metadata": {},
     "output_type": "execute_result"
    }
   ],
   "source": [
    "pred"
   ]
  },
  {
   "cell_type": "code",
   "execution_count": 36,
   "id": "efaa91dd",
   "metadata": {
    "execution": {
     "iopub.execute_input": "2021-12-31T11:50:17.937415Z",
     "iopub.status.busy": "2021-12-31T11:50:17.936421Z",
     "iopub.status.idle": "2021-12-31T11:50:17.941933Z",
     "shell.execute_reply": "2021-12-31T11:50:17.942460Z",
     "shell.execute_reply.started": "2021-12-31T11:23:20.721088Z"
    },
    "papermill": {
     "duration": 0.902996,
     "end_time": "2021-12-31T11:50:17.942635",
     "exception": false,
     "start_time": "2021-12-31T11:50:17.039639",
     "status": "completed"
    },
    "tags": []
   },
   "outputs": [
    {
     "data": {
      "text/plain": [
       "(3263, 1)"
      ]
     },
     "execution_count": 36,
     "metadata": {},
     "output_type": "execute_result"
    }
   ],
   "source": [
    "pred_int.shape"
   ]
  },
  {
   "cell_type": "code",
   "execution_count": 37,
   "id": "ace659d4",
   "metadata": {
    "execution": {
     "iopub.execute_input": "2021-12-31T11:50:19.823960Z",
     "iopub.status.busy": "2021-12-31T11:50:19.822966Z",
     "iopub.status.idle": "2021-12-31T11:50:19.828058Z",
     "shell.execute_reply": "2021-12-31T11:50:19.828748Z",
     "shell.execute_reply.started": "2021-12-31T11:23:24.394571Z"
    },
    "papermill": {
     "duration": 0.983371,
     "end_time": "2021-12-31T11:50:19.828947",
     "exception": false,
     "start_time": "2021-12-31T11:50:18.845576",
     "status": "completed"
    },
    "tags": []
   },
   "outputs": [
    {
     "data": {
      "text/plain": [
       "(3263, 2)"
      ]
     },
     "execution_count": 37,
     "metadata": {},
     "output_type": "execute_result"
    }
   ],
   "source": [
    "test.shape"
   ]
  },
  {
   "cell_type": "code",
   "execution_count": 38,
   "id": "5367c517",
   "metadata": {
    "execution": {
     "iopub.execute_input": "2021-12-31T11:50:21.655524Z",
     "iopub.status.busy": "2021-12-31T11:50:21.654827Z",
     "iopub.status.idle": "2021-12-31T11:50:21.660368Z",
     "shell.execute_reply": "2021-12-31T11:50:21.660886Z",
     "shell.execute_reply.started": "2021-12-31T11:23:30.472809Z"
    },
    "papermill": {
     "duration": 0.924898,
     "end_time": "2021-12-31T11:50:21.661064",
     "exception": false,
     "start_time": "2021-12-31T11:50:20.736166",
     "status": "completed"
    },
    "tags": []
   },
   "outputs": [],
   "source": [
    "test[\"target\"] = pred_int\n",
    "submission = test[['id','target']]"
   ]
  },
  {
   "cell_type": "code",
   "execution_count": 39,
   "id": "ac819662",
   "metadata": {
    "execution": {
     "iopub.execute_input": "2021-12-31T11:50:23.462844Z",
     "iopub.status.busy": "2021-12-31T11:50:23.462138Z",
     "iopub.status.idle": "2021-12-31T11:50:23.476570Z",
     "shell.execute_reply": "2021-12-31T11:50:23.477122Z",
     "shell.execute_reply.started": "2021-12-31T11:23:31.249374Z"
    },
    "papermill": {
     "duration": 0.913671,
     "end_time": "2021-12-31T11:50:23.477341",
     "exception": false,
     "start_time": "2021-12-31T11:50:22.563670",
     "status": "completed"
    },
    "tags": []
   },
   "outputs": [],
   "source": [
    "submission.to_csv(\"submission.csv\", index=False)"
   ]
  },
  {
   "cell_type": "code",
   "execution_count": 40,
   "id": "17136bc2",
   "metadata": {
    "execution": {
     "iopub.execute_input": "2021-12-31T11:50:25.289139Z",
     "iopub.status.busy": "2021-12-31T11:50:25.284962Z",
     "iopub.status.idle": "2021-12-31T11:50:25.305488Z",
     "shell.execute_reply": "2021-12-31T11:50:25.306154Z",
     "shell.execute_reply.started": "2021-12-31T11:23:32.019133Z"
    },
    "papermill": {
     "duration": 0.92478,
     "end_time": "2021-12-31T11:50:25.306411",
     "exception": false,
     "start_time": "2021-12-31T11:50:24.381631",
     "status": "completed"
    },
    "tags": []
   },
   "outputs": [
    {
     "data": {
      "text/html": [
       "<div>\n",
       "<style scoped>\n",
       "    .dataframe tbody tr th:only-of-type {\n",
       "        vertical-align: middle;\n",
       "    }\n",
       "\n",
       "    .dataframe tbody tr th {\n",
       "        vertical-align: top;\n",
       "    }\n",
       "\n",
       "    .dataframe thead th {\n",
       "        text-align: right;\n",
       "    }\n",
       "</style>\n",
       "<table border=\"1\" class=\"dataframe\">\n",
       "  <thead>\n",
       "    <tr style=\"text-align: right;\">\n",
       "      <th></th>\n",
       "      <th>id</th>\n",
       "      <th>text</th>\n",
       "      <th>target</th>\n",
       "    </tr>\n",
       "  </thead>\n",
       "  <tbody>\n",
       "    <tr>\n",
       "      <th>0</th>\n",
       "      <td>0</td>\n",
       "      <td>happened terrible car crash</td>\n",
       "      <td>1</td>\n",
       "    </tr>\n",
       "    <tr>\n",
       "      <th>1</th>\n",
       "      <td>2</td>\n",
       "      <td>heard earthquake different city stay safe ever...</td>\n",
       "      <td>1</td>\n",
       "    </tr>\n",
       "    <tr>\n",
       "      <th>2</th>\n",
       "      <td>3</td>\n",
       "      <td>forest fire spot pond goose fleeing across str...</td>\n",
       "      <td>1</td>\n",
       "    </tr>\n",
       "    <tr>\n",
       "      <th>3</th>\n",
       "      <td>9</td>\n",
       "      <td>apocalypse lighting spokane wildfire</td>\n",
       "      <td>1</td>\n",
       "    </tr>\n",
       "    <tr>\n",
       "      <th>4</th>\n",
       "      <td>11</td>\n",
       "      <td>typhoon soudelor kill china taiwan</td>\n",
       "      <td>1</td>\n",
       "    </tr>\n",
       "    <tr>\n",
       "      <th>...</th>\n",
       "      <td>...</td>\n",
       "      <td>...</td>\n",
       "      <td>...</td>\n",
       "    </tr>\n",
       "    <tr>\n",
       "      <th>95</th>\n",
       "      <td>323</td>\n",
       "      <td>nature appropriates love burn become annihilat...</td>\n",
       "      <td>0</td>\n",
       "    </tr>\n",
       "    <tr>\n",
       "      <th>96</th>\n",
       "      <td>324</td>\n",
       "      <td>ninahoag shred psych work friendship would ann...</td>\n",
       "      <td>0</td>\n",
       "    </tr>\n",
       "    <tr>\n",
       "      <th>97</th>\n",
       "      <td>325</td>\n",
       "      <td>thehill example conservative annihilated burto...</td>\n",
       "      <td>0</td>\n",
       "    </tr>\n",
       "    <tr>\n",
       "      <th>98</th>\n",
       "      <td>326</td>\n",
       "      <td>aug kaiserjaegers wiped francis joseph crack r...</td>\n",
       "      <td>0</td>\n",
       "    </tr>\n",
       "    <tr>\n",
       "      <th>99</th>\n",
       "      <td>333</td>\n",
       "      <td>die everything annihilated</td>\n",
       "      <td>0</td>\n",
       "    </tr>\n",
       "  </tbody>\n",
       "</table>\n",
       "<p>100 rows × 3 columns</p>\n",
       "</div>"
      ],
      "text/plain": [
       "     id                                               text  target\n",
       "0     0                        happened terrible car crash       1\n",
       "1     2  heard earthquake different city stay safe ever...       1\n",
       "2     3  forest fire spot pond goose fleeing across str...       1\n",
       "3     9               apocalypse lighting spokane wildfire       1\n",
       "4    11                 typhoon soudelor kill china taiwan       1\n",
       "..  ...                                                ...     ...\n",
       "95  323  nature appropriates love burn become annihilat...       0\n",
       "96  324  ninahoag shred psych work friendship would ann...       0\n",
       "97  325  thehill example conservative annihilated burto...       0\n",
       "98  326  aug kaiserjaegers wiped francis joseph crack r...       0\n",
       "99  333                         die everything annihilated       0\n",
       "\n",
       "[100 rows x 3 columns]"
      ]
     },
     "execution_count": 40,
     "metadata": {},
     "output_type": "execute_result"
    }
   ],
   "source": [
    "test.head(100)"
   ]
  }
 ],
 "metadata": {
  "kernelspec": {
   "display_name": "Python 3",
   "language": "python",
   "name": "python3"
  },
  "language_info": {
   "codemirror_mode": {
    "name": "ipython",
    "version": 3
   },
   "file_extension": ".py",
   "mimetype": "text/x-python",
   "name": "python",
   "nbconvert_exporter": "python",
   "pygments_lexer": "ipython3",
   "version": "3.7.12"
  },
  "papermill": {
   "default_parameters": {},
   "duration": 427.345657,
   "end_time": "2021-12-31T11:50:29.184055",
   "environment_variables": {},
   "exception": null,
   "input_path": "__notebook__.ipynb",
   "output_path": "__notebook__.ipynb",
   "parameters": {},
   "start_time": "2021-12-31T11:43:21.838398",
   "version": "2.3.3"
  }
 },
 "nbformat": 4,
 "nbformat_minor": 5
}
